{
 "cells": [
  {
   "cell_type": "code",
   "execution_count": null,
   "metadata": {},
   "outputs": [],
   "source": [
    "%matplotlib inline\n",
    "import matplotlib\n",
    "import matplotlib.pyplot as plt\n",
    "import io, base64, os, json, re, csv\n",
    "import pandas as pd\n",
    "import numpy as np\n",
    "import datetime\n",
    "import warnings\n",
    "warnings.filterwarnings('ignore')\n",
    "\n"
   ]
  },
  {
   "cell_type": "code",
   "execution_count": null,
   "metadata": {},
   "outputs": [],
   "source": [
    "path_to_market_data = '/Users/illen/Documents/coinbase-data-downloads/'"
   ]
  },
  {
   "cell_type": "markdown",
   "metadata": {},
   "source": [
    "### Load Data"
   ]
  },
  {
   "cell_type": "code",
   "execution_count": null,
   "metadata": {},
   "outputs": [],
   "source": [
    "gld_df = pd.read_csv(path_to_market_data + 'LBMA-GOLD.csv' )\n",
    "gld_df['Date'] = pd.to_datetime(gld_df['Date'])\n",
    "print(gld_df)\n",
    "\n",
    "\n",
    "gld_df = gld_df[['Date', 'USD (PM)']]\n",
    "gld_df.columns = ['Date', 'GLD']\n",
    "gld_df['GLD'] = pd.to_numeric(gld_df['GLD'], errors='coerce')\n",
    "\n",
    "print(np.min(gld_df['Date'] ),np.max(gld_df['Date'] ))\n",
    "gld_df = gld_df.sort_values('Date', ascending=True)\n",
    "gld_df = gld_df.dropna(how='any')\n",
    "\n",
    "gld_df.head()"
   ]
  },
  {
   "cell_type": "code",
   "execution_count": null,
   "metadata": {},
   "outputs": [],
   "source": [
    "fig, ax = plt.subplots(figsize=(16, 8))\n",
    "plt.plot(gld_df['Date'], gld_df['GLD'], label='GLD', color='gold')\n",
    "plt.title('Gold '+ str(np.min(gld_df['Date'])) + ' - ' + str(np.max(gld_df['Date'])))\n",
    "plt.legend(loc='upper left')\n",
    "plt.grid()\n",
    "plt.show()"
   ]
  },
  {
   "cell_type": "code",
   "execution_count": null,
   "metadata": {},
   "outputs": [],
   "source": [
    "def split_seq(seq, num_pieces):\n",
    "    # https://stackoverflow.com/questions/54915803/automatically-split-data-in-list-and-order-list-elements-and-send-to-function\n",
    "    start = 0\n",
    "    for i in range(num_pieces):\n",
    "        stop = start + len(seq[i::num_pieces])\n",
    "        yield seq[start:stop]\n",
    "        start = stop\n",
    "        \n",
    "def pearson(s1, s2):\n",
    "    \"\"\"take two pd.Series objects and return a pearson correlation\"\"\"\n",
    "    s1_c=s1-np.mean(s1)\n",
    "    s2_c=s2-np.mean(s2)\n",
    "    return np.sum(s1_c * s2_c) / np.sqrt(np.sum(s1_c ** 2) * np.sum(s2_c ** 2))\n"
   ]
  },
  {
   "cell_type": "markdown",
   "metadata": {},
   "source": [
    "### 30 trading day series"
   ]
  },
  {
   "cell_type": "code",
   "execution_count": null,
   "metadata": {},
   "outputs": [],
   "source": [
    "# pivot the column to a row and seperate into columns of 30 days\n",
    "lookback = 30\n",
    "dates = gld_df['Date']\n",
    "prices = list(gld_df['GLD'].values)\n",
    "counter_ = -1\n",
    "price_series = []\n",
    "for day in dates:\n",
    "    counter_ += 1\n",
    "    # if counter % 1000 == 0: print(counter_)\n",
    "    if counter_ >= lookback:\n",
    "        price_series.append(prices[counter_ -lookback:counter_])\n",
    "\n",
    "timeseries_df = pd.DataFrame(price_series)\n"
   ]
  },
  {
   "cell_type": "markdown",
   "metadata": {},
   "source": [
    "### Look for the rise and build the outcome"
   ]
  },
  {
   "cell_type": "code",
   "execution_count": null,
   "metadata": {},
   "outputs": [],
   "source": [
    "timeseries_df.shape"
   ]
  },
  {
   "cell_type": "code",
   "execution_count": null,
   "metadata": {},
   "outputs": [],
   "source": [
    "timeseries_df.head()"
   ]
  },
  {
   "cell_type": "code",
   "execution_count": null,
   "metadata": {},
   "outputs": [],
   "source": [
    "counter = 5\n",
    "for index, row in timeseries_df.iterrows():\n",
    "    counter -= 1\n",
    "    # look for the desired shape\n",
    "    plt.plot(row.values)\n",
    "    plt.grid()\n",
    "    plt.show()\n",
    "    if counter < 0:\n",
    "        break"
   ]
  },
  {
   "cell_type": "markdown",
   "metadata": {},
   "source": [
    "### Pattern Simplifier\n",
    "\n",
    "Here we break a long list of data into smaller lists set by 'complexity' and then average out each one"
   ]
  },
  {
   "cell_type": "code",
   "execution_count": null,
   "metadata": {
    "scrolled": true
   },
   "outputs": [],
   "source": [
    "counter =5 \n",
    "complexity = 5\n",
    "for index, row in timeseries_df.iterrows():\n",
    "    counter -= 1\n",
    "    #look for the shape\n",
    "    plt.plot([np.mean(r) for r in split_seq(list(row.values), complexity)])\n",
    "    plt.grid()\n",
    "    plt.show()\n",
    "    if counter < 0:\n",
    "        break"
   ]
  },
  {
   "cell_type": "code",
   "execution_count": null,
   "metadata": {},
   "outputs": [],
   "source": [
    "[np.mean(r) for r in split_seq(list(row.values), complexity)]"
   ]
  },
  {
   "cell_type": "code",
   "execution_count": null,
   "metadata": {},
   "outputs": [],
   "source": [
    "r"
   ]
  },
  {
   "cell_type": "code",
   "execution_count": null,
   "metadata": {},
   "outputs": [],
   "source": [
    "for index, row in timeseries_df.iterrows():\n",
    "    print(row)\n",
    "    r = row\n",
    "    break"
   ]
  },
  {
   "cell_type": "code",
   "execution_count": null,
   "metadata": {},
   "outputs": [],
   "source": [
    "[np.mean(t) for t in split_seq(list(r), complexity)]"
   ]
  },
  {
   "cell_type": "markdown",
   "metadata": {},
   "source": [
    "### Create an ideal shape pattern\n",
    "\n",
    "Play around with the shape, you can select ups, downs, u's or v's - anything goes"
   ]
  },
  {
   "cell_type": "code",
   "execution_count": null,
   "metadata": {},
   "outputs": [],
   "source": [
    "# single out the shape we want\n",
    "correlate_against = [0,0,0,0,1,2]\n",
    "plt.plot(correlate_against)\n",
    "plt.grid()"
   ]
  },
  {
   "cell_type": "markdown",
   "metadata": {},
   "source": [
    "### Using the pearson correlation function to find the best matching shape\n",
    "\n",
    "by comparing two lists, if they are both moving in the same direction it gives it a 1, if they are moving inverse it gives a -1, and if they are moving in random direction it gives a zero. ideally we want close to 1(looking for market days matching our defined wanted pattern)"
   ]
  },
  {
   "cell_type": "code",
   "execution_count": null,
   "metadata": {},
   "outputs": [],
   "source": [
    "complexity = 6 # more complexity for more granularity\n",
    "outcome_list = []\n",
    "for index, row in timeseries_df.iterrows():\n",
    "    simplified_values = []\n",
    "    for r in split_seq(list(row.values), complexity):\n",
    "        simplified_values.append(np.mean(r))\n",
    "    correz = pearson(simplified_values,correlate_against)\n",
    "    if correz > 0.5:\n",
    "        outcome_list.append(1)\n",
    "    else:\n",
    "        outcome_list.append(0)\n",
    "    "
   ]
  },
  {
   "cell_type": "code",
   "execution_count": null,
   "metadata": {},
   "outputs": [],
   "source": [
    "np.mean(outcome_list)"
   ]
  },
  {
   "cell_type": "code",
   "execution_count": null,
   "metadata": {},
   "outputs": [],
   "source": [
    "timeseries_df['outcome'] = outcome_list\n",
    "timeseries_df.head(25)"
   ]
  },
  {
   "cell_type": "code",
   "execution_count": null,
   "metadata": {},
   "outputs": [],
   "source": [
    "timeseries_df_tmp = timeseries_df[timeseries_df['outcome']==1]\n",
    "timeseries_df_tmp.tail()"
   ]
  },
  {
   "cell_type": "code",
   "execution_count": null,
   "metadata": {},
   "outputs": [],
   "source": [
    "timeseries_df_tmp = timeseries_df_tmp.tail()\n",
    "#  pull one example and remove the outcome variable\n",
    "example = timeseries_df_tmp.values[0][:-1]\n",
    "plt.plot(example)"
   ]
  },
  {
   "cell_type": "code",
   "execution_count": null,
   "metadata": {},
   "outputs": [],
   "source": [
    "simplified_values = []\n",
    "for r in split_seq(list(example), complexity):\n",
    "    simplified_values.append(np.mean(example))\n",
    "plt.plot(simplified_values)"
   ]
  },
  {
   "cell_type": "code",
   "execution_count": null,
   "metadata": {},
   "outputs": [],
   "source": [
    "vals = [np.mean(r) for r in split_seq(list(example), complexity)]\n",
    "np.min(vals)\n",
    "vals2 = [val - np.min(vals) for val in vals]\n",
    "plt.plot(vals2)"
   ]
  },
  {
   "cell_type": "markdown",
   "metadata": {},
   "source": [
    "# Bitcoin Section"
   ]
  },
  {
   "cell_type": "code",
   "execution_count": null,
   "metadata": {},
   "outputs": [],
   "source": [
    "btc_df = pd.read_csv(path_to_market_data + 'Coinbase_BTCUSD_d.csv' )\n",
    "print(btc_df)\n",
    "btc_df['Date'] = pd.to_datetime(btc_df['Date'])\n",
    "\n",
    "\n",
    "\n",
    "btc_df = btc_df[['Date', 'Close']]\n",
    "btc_df.columns = ['Date', 'BTC']\n",
    "btc_df['BTC'] = pd.to_numeric(btc_df['BTC'], errors='coerce')\n",
    "\n",
    "print(np.min(btc_df['Date'] ),np.max(btc_df['Date'] ))\n",
    "btc_df = btc_df.sort_values('Date', ascending=True)\n",
    "btc_df = btc_df.dropna(how='any')\n",
    "\n",
    "btc_df.head()\n"
   ]
  },
  {
   "cell_type": "code",
   "execution_count": null,
   "metadata": {},
   "outputs": [],
   "source": [
    "fig, ax = plt.subplots(figsize=(16, 8))\n",
    "plt.plot(btc_df['Date'], btc_df['BTC'], label='BTC', color='blue')\n",
    "plt.title('Bitcoin '+ str(np.min(btc_df['Date'])) + ' - ' + str(np.max(btc_df['Date'])))\n",
    "plt.legend(loc='upper left')\n",
    "plt.grid()\n",
    "plt.show()"
   ]
  },
  {
   "cell_type": "code",
   "execution_count": null,
   "metadata": {},
   "outputs": [],
   "source": [
    "def split_seq(seq, num_pieces):\n",
    "    # https://stackoverflow.com/questions/54915803/automatically-split-data-in-list-and-order-list-elements-and-send-to-function\n",
    "    start = 0\n",
    "    for i in range(num_pieces):\n",
    "        stop = start + len(seq[i::num_pieces])\n",
    "        yield seq[start:stop]\n",
    "        start = stop\n",
    "        \n",
    "    def pearson(s1, s2):\n",
    "        \"\"\"take two pd.Series objects and return a pearson correlation\"\"\"\n",
    "        s1_c=s1-np.mean(s1)\n",
    "        s2_c=s2-np.mean(s2)\n",
    "        return np.sum(s1_c * s2_c) / np.sqrt(np.sum(s1_c ** 2) * np.sum(s2_c ** 2))\n"
   ]
  },
  {
   "cell_type": "code",
   "execution_count": null,
   "metadata": {},
   "outputs": [],
   "source": [
    "# pivot the column to a row and seperate into columns of 30 days\n",
    "lookback = 30\n",
    "dates = btc_df['Date']\n",
    "prices = list(btc_df['BTC'].values)\n",
    "counter_ = -1\n",
    "price_series = []\n",
    "for day in dates:\n",
    "    counter_ += 1\n",
    "    # if counter % 1000 == 0: print(counter_)\n",
    "    if counter_ >= lookback:\n",
    "        price_series.append(prices[counter_ -lookback:counter_])\n",
    "\n",
    "timeseries2_df = pd.DataFrame(price_series)"
   ]
  },
  {
   "cell_type": "code",
   "execution_count": null,
   "metadata": {},
   "outputs": [],
   "source": [
    "timeseries2_df.shape"
   ]
  },
  {
   "cell_type": "code",
   "execution_count": null,
   "metadata": {},
   "outputs": [],
   "source": [
    "timeseries2_df.head()"
   ]
  },
  {
   "cell_type": "code",
   "execution_count": null,
   "metadata": {},
   "outputs": [],
   "source": [
    "counter = 5\n",
    "for index, row in timeseries2_df.iterrows():\n",
    "    counter -= 1\n",
    "    # look for the desired shape\n",
    "    plt.plot(row.values)\n",
    "    plt.grid()\n",
    "    plt.show()\n",
    "    if counter < 0:\n",
    "        break"
   ]
  },
  {
   "cell_type": "code",
   "execution_count": null,
   "metadata": {},
   "outputs": [],
   "source": [
    "counter = 5 \n",
    "complexity = 5\n",
    "for index, row in timeseries2_df.iterrows():\n",
    "    counter -= 1\n",
    "    #look for the shape\n",
    "    plt.plot([np.mean(r) for r in split_seq(list(row.values), complexity)])\n",
    "    plt.grid()\n",
    "    plt.show()\n",
    "    if counter < 0:\n",
    "        break"
   ]
  },
  {
   "cell_type": "code",
   "execution_count": null,
   "metadata": {},
   "outputs": [],
   "source": []
  },
  {
   "cell_type": "code",
   "execution_count": null,
   "metadata": {},
   "outputs": [],
   "source": []
  }
 ],
 "metadata": {
  "kernelspec": {
   "display_name": "Python 3",
   "language": "python",
   "name": "python3"
  },
  "language_info": {
   "codemirror_mode": {
    "name": "ipython",
    "version": 3
   },
   "file_extension": ".py",
   "mimetype": "text/x-python",
   "name": "python",
   "nbconvert_exporter": "python",
   "pygments_lexer": "ipython3",
   "version": "3.8.5"
  }
 },
 "nbformat": 4,
 "nbformat_minor": 4
}
